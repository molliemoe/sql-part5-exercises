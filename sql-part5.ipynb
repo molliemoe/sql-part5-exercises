{
    "metadata": {
        "kernelspec": {
            "name": "SQL",
            "display_name": "SQL",
            "language": "sql"
        },
        "language_info": {
            "name": "sql",
            "version": ""
        }
    },
    "nbformat_minor": 2,
    "nbformat": 4,
    "cells": [
        {
            "cell_type": "markdown",
            "source": [
                "# Exercises: Creating, Updating, and Destroying Objects\n",
                "\n",
                "For the exercises, you will be working with objects and data you create. Before opening this notebook, make sure that you have set up the new connection to the server and that you have located the database and your schema.\n",
                "\n",
                "## Object Creation\n",
                "\n",
                "Before coding, think of three things you want to make. These could be coding projects, new recipes, or planned projects for a woodworking hobby. Brainstorm the appropriate column names and data types as well.\n",
                "\n",
                "Create a table under your schema called `planned_makes`."
            ],
            "metadata": {
                "azdata_cell_guid": "9d51c166-0c19-4f27-a422-2a6cf596bfb2"
            },
            "attachments": {}
        },
        {
            "cell_type": "code",
            "source": [
                "CREATE TABLE JunkDB_STL_May2023.mollie.planned_makes(\r\n",
                "    project_id INT PRIMARY KEY,\r\n",
                "    pattern_name VARCHAR (50) NOT NULL,\r\n",
                "    pattern_description VARCHAR (50) NOT NULL,\r\n",
                "    yarn VARCHAR (20),\r\n",
                "    colorways VARCHAR (50),\r\n",
                ");"
            ],
            "metadata": {
                "azdata_cell_guid": "d9238911-6f81-4f01-980d-b584307effaf",
                "language": "sql"
            },
            "outputs": [
                {
                    "output_type": "error",
                    "evalue": "Msg 2714, Level 16, State 6, Line 1\r\nThere is already an object named 'planned_makes' in the database.",
                    "ename": "",
                    "traceback": []
                },
                {
                    "output_type": "display_data",
                    "data": {
                        "text/html": "Total execution time: 00:00:00.040"
                    },
                    "metadata": {}
                }
            ],
            "execution_count": 12
        },
        {
            "cell_type": "markdown",
            "source": [
                "Add three rows to your table that are your planned makes."
            ],
            "metadata": {
                "azdata_cell_guid": "83cdf34d-8c4f-4fa1-a14e-77384b19d734"
            }
        },
        {
            "cell_type": "code",
            "source": [
                "INSERT INTO JunkDB_STL_May2023.mollie.planned_makes\r\n",
                "VALUES (1, 'Awen Sweater', 'Cable knit sweater for Dan', 'Berroco Vintage', 'Red Pepper');\r\n",
                "\r\n",
                "INSERT INTO JunkDB_STL_May2023.mollie.planned_makes\r\n",
                "VALUES (2, 'Classic Granny Square Blanket', 'Baby blanket for Paladins', 'Knitpicks Heatherly', 'Otter, Snowflake, Key Lime, Agave, Butter');\r\n",
                "\r\n",
                "INSERT INTO JunkDB_STL_May2023.mollie.planned_makes\r\n",
                "VALUES (3, 'February Hat', 'Double brimmed textured knit hat', 'MadelineTosh', 'Heatherd Grey');"
            ],
            "metadata": {
                "azdata_cell_guid": "e7cff9cb-87ba-4c7b-98f2-eaf445e8719c",
                "language": "sql",
                "tags": []
            },
            "outputs": [
                {
                    "output_type": "error",
                    "evalue": "Msg 2627, Level 14, State 1, Line 1\r\nViolation of PRIMARY KEY constraint 'PK__planned___BC799E1F55A54DCB'. Cannot insert duplicate key in object 'mollie.planned_makes'. The duplicate key value is (1).",
                    "ename": "",
                    "traceback": []
                },
                {
                    "output_type": "display_data",
                    "data": {
                        "text/html": "The statement has been terminated."
                    },
                    "metadata": {}
                },
                {
                    "output_type": "display_data",
                    "data": {
                        "text/html": "(1 row affected)"
                    },
                    "metadata": {}
                },
                {
                    "output_type": "display_data",
                    "data": {
                        "text/html": "(1 row affected)"
                    },
                    "metadata": {}
                },
                {
                    "output_type": "display_data",
                    "data": {
                        "text/html": "Total execution time: 00:00:00.061"
                    },
                    "metadata": {}
                }
            ],
            "execution_count": 16
        },
        {
            "cell_type": "code",
            "source": [
                "SELECT *\r\n",
                "FROM JunkDB_STL_May2023.mollie.planned_makes;"
            ],
            "metadata": {
                "azdata_cell_guid": "c5a5dd5f-c245-4bb8-9a78-878fc9873c57",
                "language": "sql"
            },
            "outputs": [
                {
                    "output_type": "display_data",
                    "data": {
                        "text/html": "(3 rows affected)"
                    },
                    "metadata": {}
                },
                {
                    "output_type": "display_data",
                    "data": {
                        "text/html": "Total execution time: 00:00:00.417"
                    },
                    "metadata": {}
                },
                {
                    "output_type": "execute_result",
                    "metadata": {},
                    "execution_count": 18,
                    "data": {
                        "application/vnd.dataresource+json": {
                            "schema": {
                                "fields": [
                                    {
                                        "name": "project_id"
                                    },
                                    {
                                        "name": "pattern_name"
                                    },
                                    {
                                        "name": "pattern_description"
                                    },
                                    {
                                        "name": "yarn"
                                    },
                                    {
                                        "name": "colorways"
                                    }
                                ]
                            },
                            "data": [
                                {
                                    "project_id": "1",
                                    "pattern_name": "Awen Sweater",
                                    "pattern_description": "Cable knit sweater for Dan",
                                    "yarn": "Berroco Vintage",
                                    "colorways": "Red Pepper"
                                },
                                {
                                    "project_id": "2",
                                    "pattern_name": "Classic Granny Square Blanket",
                                    "pattern_description": "Baby blanket for Paladins",
                                    "yarn": "Knitpicks Heatherly",
                                    "colorways": "Otter, Snowflake, Key Lime, Agave, Butter"
                                },
                                {
                                    "project_id": "3",
                                    "pattern_name": "February Hat",
                                    "pattern_description": "Double brimmed textured knit hat",
                                    "yarn": "MadelineTosh",
                                    "colorways": "Heatherd Grey"
                                }
                            ]
                        },
                        "text/html": [
                            "<table>",
                            "<tr><th>project_id</th><th>pattern_name</th><th>pattern_description</th><th>yarn</th><th>colorways</th></tr>",
                            "<tr><td>1</td><td>Awen Sweater</td><td>Cable knit sweater for Dan</td><td>Berroco Vintage</td><td>Red Pepper</td></tr>",
                            "<tr><td>2</td><td>Classic Granny Square Blanket</td><td>Baby blanket for Paladins</td><td>Knitpicks Heatherly</td><td>Otter, Snowflake, Key Lime, Agave, Butter</td></tr>",
                            "<tr><td>3</td><td>February Hat</td><td>Double brimmed textured knit hat</td><td>MadelineTosh</td><td>Heatherd Grey</td></tr>",
                            "</table>"
                        ]
                    }
                }
            ],
            "execution_count": 18
        },
        {
            "cell_type": "markdown",
            "source": [
                "## Update a Row\n",
                "\n",
                "Change different values in one of your three rows."
            ],
            "metadata": {
                "azdata_cell_guid": "4a39b8d4-ae97-4e09-8336-c5fc6a00d76c"
            },
            "attachments": {}
        },
        {
            "cell_type": "code",
            "source": [
                "UPDATE JunkDB_STL_May2023.mollie.planned_makes\r\n",
                "SET colorways = 'Heathered Brown'\r\n",
                "WHERE project_id = 3;"
            ],
            "metadata": {
                "azdata_cell_guid": "7409c695-9581-4ad8-b03a-574d2c4c87cb",
                "language": "sql"
            },
            "outputs": [
                {
                    "output_type": "display_data",
                    "data": {
                        "text/html": "(1 row affected)"
                    },
                    "metadata": {}
                },
                {
                    "output_type": "display_data",
                    "data": {
                        "text/html": "Total execution time: 00:00:00.060"
                    },
                    "metadata": {}
                }
            ],
            "execution_count": 19
        },
        {
            "cell_type": "code",
            "source": [
                "SELECT *\r\n",
                "FROM JunkDB_STL_May2023.mollie.planned_makes;"
            ],
            "metadata": {
                "azdata_cell_guid": "45a76456-541d-4aac-b1a3-ea19d46cf69f",
                "language": "sql"
            },
            "outputs": [
                {
                    "output_type": "display_data",
                    "data": {
                        "text/html": "(3 rows affected)"
                    },
                    "metadata": {}
                },
                {
                    "output_type": "display_data",
                    "data": {
                        "text/html": "Total execution time: 00:00:00.069"
                    },
                    "metadata": {}
                },
                {
                    "output_type": "execute_result",
                    "metadata": {},
                    "execution_count": 20,
                    "data": {
                        "application/vnd.dataresource+json": {
                            "schema": {
                                "fields": [
                                    {
                                        "name": "project_id"
                                    },
                                    {
                                        "name": "pattern_name"
                                    },
                                    {
                                        "name": "pattern_description"
                                    },
                                    {
                                        "name": "yarn"
                                    },
                                    {
                                        "name": "colorways"
                                    }
                                ]
                            },
                            "data": [
                                {
                                    "project_id": "1",
                                    "pattern_name": "Awen Sweater",
                                    "pattern_description": "Cable knit sweater for Dan",
                                    "yarn": "Berroco Vintage",
                                    "colorways": "Red Pepper"
                                },
                                {
                                    "project_id": "2",
                                    "pattern_name": "Classic Granny Square Blanket",
                                    "pattern_description": "Baby blanket for Paladins",
                                    "yarn": "Knitpicks Heatherly",
                                    "colorways": "Otter, Snowflake, Key Lime, Agave, Butter"
                                },
                                {
                                    "project_id": "3",
                                    "pattern_name": "February Hat",
                                    "pattern_description": "Double brimmed textured knit hat",
                                    "yarn": "MadelineTosh",
                                    "colorways": "Heathered Brown"
                                }
                            ]
                        },
                        "text/html": [
                            "<table>",
                            "<tr><th>project_id</th><th>pattern_name</th><th>pattern_description</th><th>yarn</th><th>colorways</th></tr>",
                            "<tr><td>1</td><td>Awen Sweater</td><td>Cable knit sweater for Dan</td><td>Berroco Vintage</td><td>Red Pepper</td></tr>",
                            "<tr><td>2</td><td>Classic Granny Square Blanket</td><td>Baby blanket for Paladins</td><td>Knitpicks Heatherly</td><td>Otter, Snowflake, Key Lime, Agave, Butter</td></tr>",
                            "<tr><td>3</td><td>February Hat</td><td>Double brimmed textured knit hat</td><td>MadelineTosh</td><td>Heathered Brown</td></tr>",
                            "</table>"
                        ]
                    }
                }
            ],
            "execution_count": 20
        },
        {
            "cell_type": "markdown",
            "source": [
                "## Delete a Row\n",
                "\n",
                "Delete one of the rows from your table."
            ],
            "metadata": {
                "azdata_cell_guid": "95e91a6e-9038-42d9-9401-5738842aba17"
            }
        },
        {
            "cell_type": "code",
            "source": [
                "DELETE FROM JunkDB_STL_May2023.mollie.planned_makes\r\n",
                "WHERE project_id = 2;"
            ],
            "metadata": {
                "azdata_cell_guid": "749c748f-19b5-4c69-9004-b6b20216616a",
                "language": "sql"
            },
            "outputs": [
                {
                    "output_type": "display_data",
                    "data": {
                        "text/html": "(1 row affected)"
                    },
                    "metadata": {}
                },
                {
                    "output_type": "display_data",
                    "data": {
                        "text/html": "Total execution time: 00:00:00.449"
                    },
                    "metadata": {}
                }
            ],
            "execution_count": 21
        },
        {
            "cell_type": "code",
            "source": [
                "SELECT *\r\n",
                "FROM JunkDB_STL_May2023.mollie.planned_makes;"
            ],
            "metadata": {
                "azdata_cell_guid": "fc5dcbca-89bc-4e39-ad3d-66dbc29c68f3",
                "language": "sql"
            },
            "outputs": [
                {
                    "output_type": "display_data",
                    "data": {
                        "text/html": "(2 rows affected)"
                    },
                    "metadata": {}
                },
                {
                    "output_type": "display_data",
                    "data": {
                        "text/html": "Total execution time: 00:00:00.107"
                    },
                    "metadata": {}
                },
                {
                    "output_type": "execute_result",
                    "metadata": {},
                    "execution_count": 22,
                    "data": {
                        "application/vnd.dataresource+json": {
                            "schema": {
                                "fields": [
                                    {
                                        "name": "project_id"
                                    },
                                    {
                                        "name": "pattern_name"
                                    },
                                    {
                                        "name": "pattern_description"
                                    },
                                    {
                                        "name": "yarn"
                                    },
                                    {
                                        "name": "colorways"
                                    }
                                ]
                            },
                            "data": [
                                {
                                    "project_id": "1",
                                    "pattern_name": "Awen Sweater",
                                    "pattern_description": "Cable knit sweater for Dan",
                                    "yarn": "Berroco Vintage",
                                    "colorways": "Red Pepper"
                                },
                                {
                                    "project_id": "3",
                                    "pattern_name": "February Hat",
                                    "pattern_description": "Double brimmed textured knit hat",
                                    "yarn": "MadelineTosh",
                                    "colorways": "Heathered Brown"
                                }
                            ]
                        },
                        "text/html": [
                            "<table>",
                            "<tr><th>project_id</th><th>pattern_name</th><th>pattern_description</th><th>yarn</th><th>colorways</th></tr>",
                            "<tr><td>1</td><td>Awen Sweater</td><td>Cable knit sweater for Dan</td><td>Berroco Vintage</td><td>Red Pepper</td></tr>",
                            "<tr><td>3</td><td>February Hat</td><td>Double brimmed textured knit hat</td><td>MadelineTosh</td><td>Heathered Brown</td></tr>",
                            "</table>"
                        ]
                    }
                }
            ],
            "execution_count": 22
        },
        {
            "cell_type": "markdown",
            "source": [
                "## Drop the Table\n",
                "\n",
                "While this has been fun, it is time to drop the table!"
            ],
            "metadata": {
                "azdata_cell_guid": "2239cb09-137b-4579-905b-1aa020793181"
            },
            "attachments": {}
        },
        {
            "cell_type": "code",
            "source": [
                "DROP TABLE JunkDB_STL_May2023.mollie.planned_makes;"
            ],
            "metadata": {
                "azdata_cell_guid": "b3c7f6ea-ee26-46b3-9c2a-2f7a82c39699",
                "language": "sql"
            },
            "outputs": [
                {
                    "output_type": "display_data",
                    "data": {
                        "text/html": "Commands completed successfully."
                    },
                    "metadata": {}
                },
                {
                    "output_type": "display_data",
                    "data": {
                        "text/html": "Total execution time: 00:00:00.044"
                    },
                    "metadata": {}
                }
            ],
            "execution_count": 23
        },
        {
            "cell_type": "code",
            "source": [
                "SELECT *\r\n",
                "FROM JunkDB_STL_May2023.mollie.planned_makes;"
            ],
            "metadata": {
                "azdata_cell_guid": "4da20e38-cb7f-44a8-a62c-df2fad7ca2f6",
                "language": "sql"
            },
            "outputs": [
                {
                    "output_type": "error",
                    "evalue": "Msg 208, Level 16, State 1, Line 1\r\nInvalid object name 'JunkDB_STL_May2023.mollie.planned_makes'.",
                    "ename": "",
                    "traceback": []
                },
                {
                    "output_type": "display_data",
                    "data": {
                        "text/html": "Total execution time: 00:00:00.173"
                    },
                    "metadata": {}
                }
            ],
            "execution_count": 24
        }
    ]
}